{
 "cells": [
  {
   "cell_type": "code",
   "execution_count": 1,
   "metadata": {},
   "outputs": [],
   "source": [
    "class Mascota:\n",
    "    def __init__(self, codigo, nombre, especie, raza, edad):\n",
    "        self.codigo = codigo\n",
    "        self.nombre = nombre\n",
    "        self.especie = especie\n",
    "        self.raza = raza\n",
    "        self.edad = edad\n",
    "        self.siguiente = None\n",
    "        self.anterior = None\n",
    "\n",
    "class ListaMascotas:\n",
    "    def __init__(self):\n",
    "        self.inicio = None\n",
    "        self.fin = None\n",
    "\n",
    "    def agregar_mascota(self, codigo, nombre, especie, raza, edad):\n",
    "        nueva_mascota = Mascota(codigo, nombre, especie, raza, edad)\n",
    "        if self.inicio is None:\n",
    "            self.inicio = self.fin = nueva_mascota\n",
    "        else:\n",
    "            nueva_mascota.anterior = self.fin\n",
    "            self.fin.siguiente = nueva_mascota\n",
    "            self.fin = nueva_mascota\n",
    "\n",
    "    def mostrar_mascotas(self):\n",
    "        actual = self.inicio\n",
    "        while actual:\n",
    "            print(f\"\\nCódigo: {actual.codigo}\\nNombre: {actual.nombre}\\nEspecie: {actual.especie}\\nRaza: {actual.raza}\\nEdad: {actual.edad}\")\n",
    "            actual = actual.siguiente\n",
    "\n",
    "    def buscar_mascota(self,codigo):\n",
    "        actual = self.inicio\n",
    "        while actual:\n",
    "            if actual.codigo == codigo:\n",
    "                return actual\n",
    "            actual = actual.siguiente\n",
    "        return None\n",
    "\n",
    "    def eliminar_mascota(self, codigo):\n",
    "        mascota = self.buscar_mascota(codigo)\n",
    "        if mascota:\n",
    "            if mascota.anterior:\n",
    "                mascota.anterior.siguiente = mascota.siguiente\n",
    "            else:\n",
    "                self.inicio = mascota.siguiente\n",
    "\n",
    "            if mascota.siguiente:\n",
    "                mascota.siguiente.anterior = mascota.anterior\n",
    "            else:\n",
    "                self.fin = mascota.anterior\n",
    "\n",
    "            return True\n",
    "        return False"
   ]
  },
  {
   "cell_type": "code",
   "execution_count": 2,
   "metadata": {},
   "outputs": [],
   "source": [
    "# Ejemplo de uso:\n",
    "lista_mascotas = ListaMascotas()"
   ]
  },
  {
   "cell_type": "code",
   "execution_count": 3,
   "metadata": {},
   "outputs": [],
   "source": [
    "# Agregar mascotas\n",
    "lista_mascotas.agregar_mascota(1,\"Max\", \"Perro\", \"Labrador\", 3)\n",
    "lista_mascotas.agregar_mascota(2,\"Whiskers\", \"Gato\", \"Siames\", 5)"
   ]
  },
  {
   "cell_type": "code",
   "execution_count": 4,
   "metadata": {},
   "outputs": [
    {
     "name": "stdout",
     "output_type": "stream",
     "text": [
      "Mascotas:\n",
      "\n",
      "Código: 1\n",
      "Nombre: Max\n",
      "Especie: Perro\n",
      "Raza: Labrador\n",
      "Edad: 3\n",
      "\n",
      "Código: 2\n",
      "Nombre: Whiskers\n",
      "Especie: Gato\n",
      "Raza: Siames\n",
      "Edad: 5\n"
     ]
    }
   ],
   "source": [
    "# Mostrar mascotas\n",
    "print(\"Mascotas:\")\n",
    "lista_mascotas.mostrar_mascotas()"
   ]
  },
  {
   "cell_type": "code",
   "execution_count": 5,
   "metadata": {},
   "outputs": [
    {
     "name": "stdout",
     "output_type": "stream",
     "text": [
      "Mascotas después de eliminar:\n",
      "\n",
      "Código: 2\n",
      "Nombre: Whiskers\n",
      "Especie: Gato\n",
      "Raza: Siames\n",
      "Edad: 5\n"
     ]
    }
   ],
   "source": [
    "# Eliminar mascota\n",
    "lista_mascotas.eliminar_mascota(1)\n",
    "print(\"Mascotas después de eliminar:\")\n",
    "\n",
    "#Mostrar mascota\n",
    "lista_mascotas.mostrar_mascotas()"
   ]
  },
  {
   "cell_type": "code",
   "execution_count": null,
   "metadata": {},
   "outputs": [],
   "source": []
  }
 ],
 "metadata": {
  "kernelspec": {
   "display_name": "Python 3",
   "language": "python",
   "name": "python3"
  },
  "language_info": {
   "codemirror_mode": {
    "name": "ipython",
    "version": 3
   },
   "file_extension": ".py",
   "mimetype": "text/x-python",
   "name": "python",
   "nbconvert_exporter": "python",
   "pygments_lexer": "ipython3",
   "version": "3.10.11"
  }
 },
 "nbformat": 4,
 "nbformat_minor": 2
}
